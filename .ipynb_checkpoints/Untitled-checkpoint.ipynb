{
 "cells": [
  {
   "cell_type": "code",
   "execution_count": 2,
   "id": "c156a03c",
   "metadata": {},
   "outputs": [],
   "source": [
    "import requests\n",
    "import pandas as pd\n",
    "from bs4 import BeautifulSoup\n",
    "import json\n",
    "import time"
   ]
  },
  {
   "cell_type": "code",
   "execution_count": 22,
   "id": "49700466",
   "metadata": {},
   "outputs": [],
   "source": [
    "url = \"https://ies-midterm.soulution.rocks/login\"\n",
    "\n",
    "\n",
    "r = requests.post(url, data=json.dumps({\"cuni\": \"45167974\"})).json()\n"
   ]
  },
  {
   "cell_type": "code",
   "execution_count": 26,
   "id": "2edb5cba",
   "metadata": {},
   "outputs": [
    {
     "name": "stdout",
     "output_type": "stream",
     "text": [
      "44900537\n"
     ]
    }
   ],
   "source": [
    "print(r[\"data\"][\"personal_code\"])"
   ]
  },
  {
   "cell_type": "code",
   "execution_count": 30,
   "id": "18b9f03a",
   "metadata": {},
   "outputs": [],
   "source": [
    "list_of_codes = r[\"data\"][\"dataset_ids\"]"
   ]
  },
  {
   "cell_type": "code",
   "execution_count": 39,
   "id": "febb7ee4",
   "metadata": {},
   "outputs": [],
   "source": [
    "df = []\n",
    "for i in list_of_codes:\n",
    "    url = \"https://ies-midterm.soulution.rocks/data/\" + i +\"/\"\n",
    "    df.append(requests.get(url).json())"
   ]
  },
  {
   "cell_type": "code",
   "execution_count": 125,
   "id": "f19af2d4",
   "metadata": {},
   "outputs": [],
   "source": [
    "data = pd.DataFrame()\n",
    "for i in range(len(df)):\n",
    "    data = data.append(df[i][\"data\"][\"data\"],ignore_index=True)\n"
   ]
  },
  {
   "cell_type": "code",
   "execution_count": 130,
   "id": "c08925a5",
   "metadata": {},
   "outputs": [],
   "source": [
    "p1 = pd.DataFrame(df[0][\"data\"][\"data\"])"
   ]
  },
  {
   "cell_type": "code",
   "execution_count": 132,
   "id": "1b093f18",
   "metadata": {},
   "outputs": [],
   "source": [
    "p2 = pd.DataFrame(df[1][\"data\"][\"data\"])"
   ]
  },
  {
   "cell_type": "code",
   "execution_count": 134,
   "id": "8fd55e51",
   "metadata": {},
   "outputs": [
    {
     "data": {
      "text/html": [
       "<div>\n",
       "<style scoped>\n",
       "    .dataframe tbody tr th:only-of-type {\n",
       "        vertical-align: middle;\n",
       "    }\n",
       "\n",
       "    .dataframe tbody tr th {\n",
       "        vertical-align: top;\n",
       "    }\n",
       "\n",
       "    .dataframe thead th {\n",
       "        text-align: right;\n",
       "    }\n",
       "</style>\n",
       "<table border=\"1\" class=\"dataframe\">\n",
       "  <thead>\n",
       "    <tr style=\"text-align: right;\">\n",
       "      <th></th>\n",
       "      <th>Date</th>\n",
       "      <th>Open</th>\n",
       "      <th>High</th>\n",
       "      <th>Low</th>\n",
       "      <th>Close</th>\n",
       "      <th>Adj.Close</th>\n",
       "      <th>Volume</th>\n",
       "    </tr>\n",
       "  </thead>\n",
       "  <tbody>\n",
       "    <tr>\n",
       "      <th>0</th>\n",
       "      <td>2019-01-02</td>\n",
       "      <td>10.149999618530273</td>\n",
       "      <td>12.109999656677246</td>\n",
       "      <td>10.039999961853027</td>\n",
       "      <td>11.520000457763672</td>\n",
       "      <td>11.331148147583008</td>\n",
       "      <td>18900</td>\n",
       "    </tr>\n",
       "    <tr>\n",
       "      <th>1</th>\n",
       "      <td>2019-01-03</td>\n",
       "      <td>11.510000228881836</td>\n",
       "      <td>11.520000457763672</td>\n",
       "      <td>11.09000015258789</td>\n",
       "      <td>11.09000015258789</td>\n",
       "      <td>10.908197402954102</td>\n",
       "      <td>2700</td>\n",
       "    </tr>\n",
       "    <tr>\n",
       "      <th>2</th>\n",
       "      <td>2019-01-04</td>\n",
       "      <td>11.399999618530273</td>\n",
       "      <td>11.399999618530273</td>\n",
       "      <td>11.170000076293945</td>\n",
       "      <td>11.170000076293945</td>\n",
       "      <td>10.986885070800781</td>\n",
       "      <td>2600</td>\n",
       "    </tr>\n",
       "    <tr>\n",
       "      <th>3</th>\n",
       "      <td>2019-01-07</td>\n",
       "      <td>11.170000076293945</td>\n",
       "      <td>11.170000076293945</td>\n",
       "      <td>11.170000076293945</td>\n",
       "      <td>11.170000076293945</td>\n",
       "      <td>10.986885070800781</td>\n",
       "      <td>100</td>\n",
       "    </tr>\n",
       "    <tr>\n",
       "      <th>4</th>\n",
       "      <td>2019-01-08</td>\n",
       "      <td>11.170000076293945</td>\n",
       "      <td>11.170000076293945</td>\n",
       "      <td>11.170000076293945</td>\n",
       "      <td>11.170000076293945</td>\n",
       "      <td>10.986885070800781</td>\n",
       "      <td>200</td>\n",
       "    </tr>\n",
       "    <tr>\n",
       "      <th>...</th>\n",
       "      <td>...</td>\n",
       "      <td>...</td>\n",
       "      <td>...</td>\n",
       "      <td>...</td>\n",
       "      <td>...</td>\n",
       "      <td>...</td>\n",
       "      <td>...</td>\n",
       "    </tr>\n",
       "    <tr>\n",
       "      <th>2390</th>\n",
       "      <td>2020-11-17</td>\n",
       "      <td>14.5600004196167</td>\n",
       "      <td>14.843000411987305</td>\n",
       "      <td>14.520000457763672</td>\n",
       "      <td>14.739999771118164</td>\n",
       "      <td>14.695181846618652</td>\n",
       "      <td>298700</td>\n",
       "    </tr>\n",
       "    <tr>\n",
       "      <th>2391</th>\n",
       "      <td>2020-11-18</td>\n",
       "      <td>14.899999618530273</td>\n",
       "      <td>15.220000267028809</td>\n",
       "      <td>14.779999732971191</td>\n",
       "      <td>14.800000190734863</td>\n",
       "      <td>14.755000114440918</td>\n",
       "      <td>351800</td>\n",
       "    </tr>\n",
       "    <tr>\n",
       "      <th>2392</th>\n",
       "      <td>2020-11-19</td>\n",
       "      <td>14.770000457763672</td>\n",
       "      <td>14.960000038146973</td>\n",
       "      <td>14.6899995803833</td>\n",
       "      <td>14.960000038146973</td>\n",
       "      <td>14.960000038146973</td>\n",
       "      <td>256100</td>\n",
       "    </tr>\n",
       "    <tr>\n",
       "      <th>2393</th>\n",
       "      <td>2020-11-20</td>\n",
       "      <td>14.960000038146973</td>\n",
       "      <td>15.100000381469727</td>\n",
       "      <td>14.850000381469727</td>\n",
       "      <td>15.029999732971191</td>\n",
       "      <td>15.029999732971191</td>\n",
       "      <td>195800</td>\n",
       "    </tr>\n",
       "    <tr>\n",
       "      <th>2394</th>\n",
       "      <td></td>\n",
       "      <td>NaN</td>\n",
       "      <td>NaN</td>\n",
       "      <td>NaN</td>\n",
       "      <td>NaN</td>\n",
       "      <td>NaN</td>\n",
       "      <td>NaN</td>\n",
       "    </tr>\n",
       "  </tbody>\n",
       "</table>\n",
       "<p>2395 rows × 7 columns</p>\n",
       "</div>"
      ],
      "text/plain": [
       "            Date                Open                High                 Low  \\\n",
       "0     2019-01-02  10.149999618530273  12.109999656677246  10.039999961853027   \n",
       "1     2019-01-03  11.510000228881836  11.520000457763672   11.09000015258789   \n",
       "2     2019-01-04  11.399999618530273  11.399999618530273  11.170000076293945   \n",
       "3     2019-01-07  11.170000076293945  11.170000076293945  11.170000076293945   \n",
       "4     2019-01-08  11.170000076293945  11.170000076293945  11.170000076293945   \n",
       "...          ...                 ...                 ...                 ...   \n",
       "2390  2020-11-17    14.5600004196167  14.843000411987305  14.520000457763672   \n",
       "2391  2020-11-18  14.899999618530273  15.220000267028809  14.779999732971191   \n",
       "2392  2020-11-19  14.770000457763672  14.960000038146973    14.6899995803833   \n",
       "2393  2020-11-20  14.960000038146973  15.100000381469727  14.850000381469727   \n",
       "2394                             NaN                 NaN                 NaN   \n",
       "\n",
       "                   Close           Adj.Close  Volume  \n",
       "0     11.520000457763672  11.331148147583008   18900  \n",
       "1      11.09000015258789  10.908197402954102    2700  \n",
       "2     11.170000076293945  10.986885070800781    2600  \n",
       "3     11.170000076293945  10.986885070800781     100  \n",
       "4     11.170000076293945  10.986885070800781     200  \n",
       "...                  ...                 ...     ...  \n",
       "2390  14.739999771118164  14.695181846618652  298700  \n",
       "2391  14.800000190734863  14.755000114440918  351800  \n",
       "2392  14.960000038146973  14.960000038146973  256100  \n",
       "2393  15.029999732971191  15.029999732971191  195800  \n",
       "2394                 NaN                 NaN     NaN  \n",
       "\n",
       "[2395 rows x 7 columns]"
      ]
     },
     "execution_count": 134,
     "metadata": {},
     "output_type": "execute_result"
    }
   ],
   "source": [
    "data"
   ]
  },
  {
   "cell_type": "code",
   "execution_count": null,
   "id": "00af9e35",
   "metadata": {},
   "outputs": [],
   "source": []
  }
 ],
 "metadata": {
  "kernelspec": {
   "display_name": "Python 3",
   "language": "python",
   "name": "python3"
  },
  "language_info": {
   "codemirror_mode": {
    "name": "ipython",
    "version": 3
   },
   "file_extension": ".py",
   "mimetype": "text/x-python",
   "name": "python",
   "nbconvert_exporter": "python",
   "pygments_lexer": "ipython3",
   "version": "3.8.8"
  }
 },
 "nbformat": 4,
 "nbformat_minor": 5
}
